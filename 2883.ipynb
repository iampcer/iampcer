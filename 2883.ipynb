{
  "nbformat": 4,
  "nbformat_minor": 0,
  "metadata": {
    "colab": {
      "provenance": [],
      "collapsed_sections": [],
      "authorship_tag": "ABX9TyOqavJbCnglFGlZE1nngTFt",
      "include_colab_link": true
    },
    "kernelspec": {
      "name": "python3",
      "display_name": "Python 3"
    },
    "language_info": {
      "name": "python"
    }
  },
  "cells": [
    {
      "cell_type": "markdown",
      "metadata": {
        "id": "view-in-github",
        "colab_type": "text"
      },
      "source": [
        "<a href=\"https://colab.research.google.com/github/iampcer/iampcer/blob/main/2883.ipynb\" target=\"_parent\"><img src=\"https://colab.research.google.com/assets/colab-badge.svg\" alt=\"Open In Colab\"/></a>"
      ]
    },
    {
      "cell_type": "code",
      "execution_count": null,
      "metadata": {
        "id": "M-IDlKmavoMn",
        "outputId": "26f83ba1-9b76-4e28-a7be-694ba1fbebbe",
        "colab": {
          "base_uri": "https://localhost:8080/"
        }
      },
      "outputs": [
        {
          "output_type": "stream",
          "name": "stdout",
          "text": [
            "開發金 : 13.40 ( +0.05 )\n"
          ]
        }
      ],
      "source": [
        "import requests\n",
        "from bs4 import BeautifulSoup\n",
        "\n",
        "url = 'https://tw.stock.yahoo.com/quote/2883'    # 台積電 Yahoo 股市網址\n",
        "web = requests.get(url)                          # 取得網頁內容\n",
        "soup = BeautifulSoup(web.text, \"html.parser\")    # 轉換內容\n",
        "title = soup.find('h1')             # 找到 h1 的內容\n",
        "a = soup.select('.Fz(32px)')[0]     # 找到第一個 class 為 Fz(32px) 的內容\n",
        "b = soup.select('.Fz(20px)')[0]     # 找到第一個 class 為 Fz(20px) 的內容\n",
        "s = ''                              # 漲或跌的狀態\n",
        "try:\n",
        "    # 如果 main-0-QuoteHeader-Proxy id 的 div 裡有 C($c-trend-down) 的 class\n",
        "    # 表示狀態為下跌\n",
        "    if soup.select('#main-0-QuoteHeader-Proxy')[0].select('.C($c-trend-down)')[0]:\n",
        "        s = '-'\n",
        "except:\n",
        "    try:\n",
        "        # 如果 main-0-QuoteHeader-Proxy id 的 div 裡有 C($c-trend-up) 的 class\n",
        "        # 表示狀態為上漲\n",
        "        if soup.select('#main-0-QuoteHeader-Proxy')[0].select('.C($c-trend-up)')[0]:\n",
        "            s = '+'\n",
        "    except:\n",
        "        # 如果都沒有包含，表示平盤\n",
        "        s = '-'\n",
        "\n",
        "print(f'{title.get_text()} : {a.get_text()} ( {s}{b.get_text()} )')   # 印出結果"
      ]
    }
  ]
}