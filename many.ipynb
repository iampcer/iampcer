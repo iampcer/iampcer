{
  "nbformat": 4,
  "nbformat_minor": 0,
  "metadata": {
    "colab": {
      "provenance": [],
      "collapsed_sections": [],
      "authorship_tag": "ABX9TyMjaQnjjBHYjpdxyx2DhDjr",
      "include_colab_link": true
    },
    "kernelspec": {
      "name": "python3",
      "display_name": "Python 3"
    },
    "language_info": {
      "name": "python"
    }
  },
  "cells": [
    {
      "cell_type": "markdown",
      "metadata": {
        "id": "view-in-github",
        "colab_type": "text"
      },
      "source": [
        "<a href=\"https://colab.research.google.com/github/iampcer/iampcer/blob/main/many.ipynb\" target=\"_parent\"><img src=\"https://colab.research.google.com/assets/colab-badge.svg\" alt=\"Open In Colab\"/></a>"
      ]
    },
    {
      "cell_type": "code",
      "execution_count": 1,
      "metadata": {
        "colab": {
          "base_uri": "https://localhost:8080/"
        },
        "id": "LRvrutUywuk-",
        "outputId": "437b2b68-94a2-4427-867c-64da1ecfad4b"
      },
      "outputs": [
        {
          "output_type": "stream",
          "name": "stdout",
          "text": [
            "旺宏 : 32.15 ( -0.40 )\n",
            "開發金乙特 : 8.36 ( -0.01 )\n",
            "開發金 : 13.35 ( +0.00 )\n",
            "高端疫苗 : 124.0 ( -3.5 )\n"
          ]
        }
      ],
      "source": [
        "import requests\n",
        "from bs4 import BeautifulSoup\n",
        "from concurrent.futures import ThreadPoolExecutor\n",
        "\n",
        "# 建立要抓取的股票網址清單\n",
        "stock_urls = [\n",
        "  'https://tw.stock.yahoo.com/quote/2883',\n",
        "  'https://tw.stock.yahoo.com/quote/2337',\n",
        "  'https://tw.stock.yahoo.com/quote/2883B',\n",
        "  'https://tw.stock.yahoo.com/quote/6547'\n",
        "]\n",
        "\n",
        "# 將剛剛的抓取程式變成「函式」\n",
        "def getStock(url):\n",
        "    web = requests.get(url)\n",
        "    soup = BeautifulSoup(web.text, \"html.parser\")\n",
        "    title = soup.find('h1')\n",
        "    a = soup.select('.Fz(32px)')[0]\n",
        "    b = soup.select('.Fz(20px)')[0]\n",
        "    s = ''\n",
        "    try:\n",
        "        if soup.select('#main-0-QuoteHeader-Proxy')[0].select('.C($c-trend-down)')[0]:\n",
        "            s = '-'\n",
        "    except:\n",
        "        try:\n",
        "            if soup.select('#main-0-QuoteHeader-Proxy')[0].select('.C($c-trend-up)')[0]:\n",
        "                s = '+'\n",
        "        except:\n",
        "            state = ''\n",
        "    print(f'{title.get_text()} : {a.get_text()} ( {s}{b.get_text()} )')\n",
        "\n",
        "executor = ThreadPoolExecutor()         # 建立非同步的多執行緒的啟動器\n",
        "with ThreadPoolExecutor() as executor:\n",
        "    executor.map(getStock, stock_urls)  # 開始同時爬取股價"
      ]
    }
  ]
}